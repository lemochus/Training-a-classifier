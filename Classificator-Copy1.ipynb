{
 "cells": [
  {
   "cell_type": "markdown",
   "metadata": {},
   "source": [
    "<h1>Simple Classification</h1>"
   ]
  },
  {
   "cell_type": "markdown",
   "metadata": {},
   "source": [
    "Author: Aleš Suchomel\n",
    "\n",
    "Task:"
   ]
  },
  {
   "cell_type": "markdown",
   "metadata": {},
   "source": [
    "<h3>Import of used packages</h3> "
   ]
  },
  {
   "cell_type": "code",
   "execution_count": 1,
   "metadata": {},
   "outputs": [],
   "source": [
    "#Reading csv files\n",
    "import csv\n",
    "#Computing and containers\n",
    "import numpy as np\n",
    "#Plotting\n",
    "import matplotlib\n",
    "import matplotlib.pyplot as plt\n",
    "#from matplotlib.colors import ListedColormap\n",
    "%matplotlib inline\n",
    "#Pro SVM Classificator \n",
    "import sklearn.svm as svm\n",
    "#Data presentation\n",
    "import pandas as pd"
   ]
  },
  {
   "cell_type": "markdown",
   "metadata": {},
   "source": [
    "<h3>URLs of used external files</h3>"
   ]
  },
  {
   "cell_type": "code",
   "execution_count": 2,
   "metadata": {},
   "outputs": [],
   "source": [
    "#CSV files with the data\n",
    "linSepDataFileURL = 'linsep-traindata.csv'\n",
    "linSepClassFileURL = 'linsep-trainclass.csv'\n",
    "\n",
    "nonLinSepDataFileURL = 'nonlinsep-traindata.csv'\n",
    "nonLinSepClassFileURL = 'nonlinsep-trainclass.csv'"
   ]
  },
  {
   "cell_type": "code",
   "execution_count": 3,
   "metadata": {},
   "outputs": [],
   "source": [
    "#Loading"
   ]
  },
  {
   "cell_type": "code",
   "execution_count": 4,
   "metadata": {},
   "outputs": [],
   "source": [
    " # Training the Perceptron\n",
    "    #\n",
    "    # Inputs\n",
    "    # x:   feature data\n",
    "    # y:   outputs\n",
    "    # z:   threshold\n",
    "    # eta: learning rate\n",
    "    # t:   number of iterations\n",
    "def loadDataFromCSVFile(fileURL):    \n",
    "    dataFile = open(fileURL)   \n",
    "    dataReader = csv.reader(dataFile)\n",
    "    data = list(dataReader)\n",
    "    data = np.array(data).astype(\"float\")\n",
    "    dataFile.close() \n",
    "    return data\n",
    "\n",
    "linSepData = loadDataFromCSVFile(linSepDataFileURL)\n",
    "linSepClasses = loadDataFromCSVFile(linSepClassFileURL)\n",
    "    "
   ]
  },
  {
   "cell_type": "code",
   "execution_count": 5,
   "metadata": {},
   "outputs": [
    {
     "data": {
      "text/html": [
       "<div>\n",
       "<style scoped>\n",
       "    .dataframe tbody tr th:only-of-type {\n",
       "        vertical-align: middle;\n",
       "    }\n",
       "\n",
       "    .dataframe tbody tr th {\n",
       "        vertical-align: top;\n",
       "    }\n",
       "\n",
       "    .dataframe thead th {\n",
       "        text-align: right;\n",
       "    }\n",
       "</style>\n",
       "<table border=\"1\" class=\"dataframe\">\n",
       "  <thead>\n",
       "    <tr style=\"text-align: right;\">\n",
       "      <th></th>\n",
       "      <th>0</th>\n",
       "      <th>1</th>\n",
       "      <th>2</th>\n",
       "      <th>3</th>\n",
       "      <th>4</th>\n",
       "      <th>5</th>\n",
       "      <th>6</th>\n",
       "      <th>7</th>\n",
       "      <th>...</th>\n",
       "      <th>92</th>\n",
       "      <th>93</th>\n",
       "      <th>94</th>\n",
       "      <th>95</th>\n",
       "      <th>96</th>\n",
       "      <th>97</th>\n",
       "      <th>98</th>\n",
       "      <th>99</th>\n",
       "    </tr>\n",
       "  </thead>\n",
       "  <tbody>\n",
       "    <tr>\n",
       "      <th>X1</th>\n",
       "      <td>2.0009</td>\n",
       "      <td>4.845700</td>\n",
       "      <td>4.17110</td>\n",
       "      <td>1.4660</td>\n",
       "      <td>6.05990</td>\n",
       "      <td>1.3872</td>\n",
       "      <td>0.57898</td>\n",
       "      <td>0.41096</td>\n",
       "      <td>...</td>\n",
       "      <td>-4.6567</td>\n",
       "      <td>-4.4480</td>\n",
       "      <td>-5.1088</td>\n",
       "      <td>-2.5519</td>\n",
       "      <td>-4.1622</td>\n",
       "      <td>-3.2379</td>\n",
       "      <td>-4.3434</td>\n",
       "      <td>-4.2989</td>\n",
       "    </tr>\n",
       "    <tr>\n",
       "      <th>X2</th>\n",
       "      <td>4.6848</td>\n",
       "      <td>0.076542</td>\n",
       "      <td>0.50986</td>\n",
       "      <td>5.8026</td>\n",
       "      <td>0.84003</td>\n",
       "      <td>7.3061</td>\n",
       "      <td>1.86560</td>\n",
       "      <td>4.43820</td>\n",
       "      <td>...</td>\n",
       "      <td>-4.8184</td>\n",
       "      <td>-3.7235</td>\n",
       "      <td>-2.7171</td>\n",
       "      <td>-3.4786</td>\n",
       "      <td>-3.5400</td>\n",
       "      <td>-2.3194</td>\n",
       "      <td>-3.4183</td>\n",
       "      <td>-3.7629</td>\n",
       "    </tr>\n",
       "    <tr>\n",
       "      <th>class</th>\n",
       "      <td>-1.0000</td>\n",
       "      <td>-1.000000</td>\n",
       "      <td>-1.00000</td>\n",
       "      <td>-1.0000</td>\n",
       "      <td>-1.00000</td>\n",
       "      <td>-1.0000</td>\n",
       "      <td>-1.00000</td>\n",
       "      <td>-1.00000</td>\n",
       "      <td>...</td>\n",
       "      <td>1.0000</td>\n",
       "      <td>1.0000</td>\n",
       "      <td>1.0000</td>\n",
       "      <td>1.0000</td>\n",
       "      <td>1.0000</td>\n",
       "      <td>1.0000</td>\n",
       "      <td>1.0000</td>\n",
       "      <td>1.0000</td>\n",
       "    </tr>\n",
       "  </tbody>\n",
       "</table>\n",
       "<p>3 rows × 100 columns</p>\n",
       "</div>"
      ],
      "text/plain": [
       "           0         1        2       3        4       5        6        7   \\\n",
       "X1     2.0009  4.845700  4.17110  1.4660  6.05990  1.3872  0.57898  0.41096   \n",
       "X2     4.6848  0.076542  0.50986  5.8026  0.84003  7.3061  1.86560  4.43820   \n",
       "class -1.0000 -1.000000 -1.00000 -1.0000 -1.00000 -1.0000 -1.00000 -1.00000   \n",
       "\n",
       "        ...        92      93      94      95      96      97      98      99  \n",
       "X1      ...   -4.6567 -4.4480 -5.1088 -2.5519 -4.1622 -3.2379 -4.3434 -4.2989  \n",
       "X2      ...   -4.8184 -3.7235 -2.7171 -3.4786 -3.5400 -2.3194 -3.4183 -3.7629  \n",
       "class   ...    1.0000  1.0000  1.0000  1.0000  1.0000  1.0000  1.0000  1.0000  \n",
       "\n",
       "[3 rows x 100 columns]"
      ]
     },
     "metadata": {},
     "output_type": "display_data"
    }
   ],
   "source": [
    "#Vypsat hezcejc nactreny hodnoty panda\n",
    "df = pd.DataFrame(np.append(linSepData, linSepClasses, axis=1),columns=['X1','X2','class'])\n",
    "pd.set_option('display.max_columns',17)\n",
    "display(df.T)\n",
    "#Neco pridat jako text"
   ]
  },
  {
   "cell_type": "code",
   "execution_count": 6,
   "metadata": {},
   "outputs": [],
   "source": [
    "#Text"
   ]
  },
  {
   "cell_type": "code",
   "execution_count": 7,
   "metadata": {},
   "outputs": [],
   "source": [
    "def shufflePoints(points, classes, seed = 'no'):\n",
    "    XX = np.append(points, classes, axis=1)\n",
    "    rand = np.random\n",
    "    if seed != 'no':\n",
    "        rand.seed(seed)\n",
    "    rand.shuffle(XX)\n",
    "    points = XX[:,0:2]\n",
    "    classes = XX[:,2,None]\n",
    "    return points, classes\n",
    "\n",
    "linSepData, linSepClasses = shufflePoints(linSepData, linSepClasses, 5)\n"
   ]
  },
  {
   "cell_type": "code",
   "execution_count": 8,
   "metadata": {},
   "outputs": [],
   "source": [
    "#Plotting do dvou fci"
   ]
  },
  {
   "cell_type": "code",
   "execution_count": 9,
   "metadata": {},
   "outputs": [
    {
     "data": {
      "image/png": "[encoded data removed]",
      "text/plain": [
       "<matplotlib.figure.Figure at 0x1f7bf399cf8>"
      ]
     },
     "metadata": {},
     "output_type": "display_data"
    }
   ],
   "source": [
    "def plotPoints(points, classes):\n",
    "\n",
    "    X1 = points[classes[:,0]==1,:]\n",
    "    X2 = points[classes[:,0]==-1,:]\n",
    "    \n",
    "    plt.scatter(X1[:,0],X1[:,1], c='r', marker='x', label='Class: 1')\n",
    "    plt.scatter(X2[:,0],X2[:,1], c='b', marker='o', label='Class: -1')\n",
    "          \n",
    "    plt.legend(loc='upper left')\n",
    "    plt.xlabel('X1')\n",
    "    plt.ylabel('X2')\n",
    "    plt.title('Data')\n",
    "    \n",
    "plotPoints(linSepData, linSepClasses) \n",
    "plt.show()"
   ]
  },
  {
   "cell_type": "markdown",
   "metadata": {},
   "source": [
    "<h3>My Perceptron</h3> "
   ]
  },
  {
   "cell_type": "code",
   "execution_count": 10,
   "metadata": {},
   "outputs": [
    {
     "name": "stdout",
     "output_type": "stream",
     "text": [
      "Number of wrongly classified training points: 0\n"
     ]
    }
   ],
   "source": [
    "class myPerceptron:\n",
    "    # X:   feature data\n",
    "    # y:   classes\n",
    "    # eta: learning rate\n",
    "    # t:   number of iterations\n",
    "    # weights\n",
    "    def __init__(self, eta = 0.1, MAX_ITERATIONS = 1000):\n",
    "        self.eta = eta\n",
    "        self.MAX_ITERATIONS = MAX_ITERATIONS\n",
    "        self.weights = np.zeros(3)\n",
    "        \n",
    "    def predict(self, points):#prepsat\n",
    "        Z = []\n",
    "        r = 1\n",
    "        if len(points.shape)<=1:\n",
    "            points=[points]\n",
    "        for row in points:\n",
    "            xx = np.array([float(-1),row[0],row[1]])\n",
    "            value = np.sum(self.weights*xx)  \n",
    "            if value > 0: \n",
    "                Z.append(-1)\n",
    "            else:\n",
    "                Z.append(1)    \n",
    "        return np.array(Z)\n",
    "    \n",
    "    def countErrors(self, points, classes):\n",
    "        errors = 0\n",
    "        ind = 0\n",
    "        for p in points:\n",
    "            guessedClass = self.predict(p)\n",
    "            errors += abs((guessedClass - classes[ind])/2)\n",
    "            ind += 1\n",
    "        return int(errors)   \n",
    "    \n",
    "    def fit(self, trainPoints, classes): #Stochastic gradient descent\n",
    "        self.weights = np.zeros(3)\n",
    "        errors = 1\n",
    "        index = 0\n",
    "        while index < self.MAX_ITERATIONS and errors != 0: #self.weights\n",
    "            indexClass = 0\n",
    "            for p in trainPoints:\n",
    "                guessedClass = self.predict(p)\n",
    "                error = (guessedClass[0] - classes[indexClass])/2\n",
    "                xx = np.array([float(-1),p[0],p[1]])\n",
    "                self.weights += xx*error*self.eta         \n",
    "                indexClass+=1\n",
    "            index += 1\n",
    "            errors = self.countErrors(trainPoints,classes)\n",
    "            \n",
    "my = myPerceptron()\n",
    "my.fit(linSepData, linSepClasses)\n",
    "print('Number of wrongly classified training points: ' + str(my.countErrors(linSepData, linSepClasses)))\n",
    "    "
   ]
  },
  {
   "cell_type": "markdown",
   "metadata": {},
   "source": [
    "Plot"
   ]
  },
  {
   "cell_type": "code",
   "execution_count": 12,
   "metadata": {},
   "outputs": [
    {
     "data": {
      "image/png": "[encoded data removed]",
      "text/plain": [
       "<matplotlib.figure.Figure at 0x1f7bf8f3470>"
      ]
     },
     "metadata": {},
     "output_type": "display_data"
    }
   ],
   "source": [
    "def plotClassification(points, classes, classifier):\n",
    " \n",
    "    colors = ('blue','red')\n",
    "    step = 0.02\n",
    "\n",
    "    x0Min = points[:,0].min() - 0.5 \n",
    "    x0Max = points[:,0].max() + 0.5\n",
    "    x1Min = points[:,1].min() - 0.5\n",
    "    x1Max = points[:,1].max() + 0.5\n",
    "    \n",
    "    x0 = np.arange(x0Min, x0Max, step)\n",
    "    x1 = np.arange(x1Min, x1Max, step)\n",
    "    xx0, xx1 = np.meshgrid(x0,x1)\n",
    "\n",
    "    allX = np.array([xx0.ravel(), xx1.ravel()]).T\n",
    "    Z = classifier.predict(allX)\n",
    "    Z = Z.reshape(xx0.shape)\n",
    "    \n",
    "    plt.contourf(xx0, xx1, Z, alpha = 0.3, colors = colors)   \n",
    "    plotPoints(points, classes)\n",
    "    \n",
    "plotClassification(linSepData, linSepClasses, my) \n",
    "plt.show()"
   ]
  },
  {
   "cell_type": "markdown",
   "metadata": {},
   "source": [
    "Test"
   ]
  },
  {
   "cell_type": "code",
   "execution_count": 13,
   "metadata": {},
   "outputs": [
    {
     "data": {
      "image/png": "[encoded data removed]",
      "text/plain": [
       "<matplotlib.figure.Figure at 0x1f7bf93ea90>"
      ]
     },
     "metadata": {},
     "output_type": "display_data"
    }
   ],
   "source": [
    "#Definitivne do funkce\n",
    "def generateLinSepData(a = 1, b = 0, nData = 100, minDistance = 0.1, seed = 'no'):    \n",
    "    \n",
    "    rand = np.random\n",
    "    if seed != 'no':\n",
    "        rand.seed(seed)        \n",
    "    data = rand.random([nData,2]) * 10 - 5\n",
    "        \n",
    "    x1Distance = a * data[:,0,None] + b - data[:,1,None]\n",
    "    x1Conditions = [x1Distance <= -minDistance, x1Distance >= minDistance, abs(x1Distance)<minDistance]\n",
    "    x1Classes = np.select(x1Conditions,[-1, 1, 0])\n",
    "    \n",
    "    x2Distance = (data[:,1,None] - b) / a - data[:,0,None]\n",
    "    x2Conditions = [abs(x2Distance)<minDistance, abs(x2Distance)>=minDistance]\n",
    "    x2Classes = np.select(x2Conditions,[0,1])    \n",
    "    classes = np.multiply(x1Classes,x2Classes)\n",
    "    \n",
    "    data = data[classes[:,0]!=0]\n",
    "    classes = classes[classes[:,0]!=0]\n",
    "    \n",
    "    return(data,classes)\n",
    "\n",
    "randomData,randomClasses = generateLinSepData()\n",
    "plotPoints(randomData,randomClasses)\n",
    "plt.show()"
   ]
  },
  {
   "cell_type": "code",
   "execution_count": 14,
   "metadata": {},
   "outputs": [
    {
     "name": "stdout",
     "output_type": "stream",
     "text": [
      "A perceptron test was performed. There were 100 training sets of 100 randomly generated linearly separable points. \n",
      "\n",
      "During the test, no point was badly classified. \n",
      "\n"
     ]
    }
   ],
   "source": [
    "def classificatorTest(classifier, iterations = 100, nData = 100, minDistance = 0.1):\n",
    "    \n",
    "    errors = 0\n",
    "    errorSamplesList = []\n",
    "    r = np.random\n",
    "    for i in range(iterations):\n",
    "        a = r.random() * 20 - 10\n",
    "        b = r.random() * 10 - 5\n",
    "        randomData, randomClasses = generateLinSepData(a,b, minDistance = minDistance, nData = nData)\n",
    "        classifier.fit(randomData, randomClasses)\n",
    "        er = classifier.countErrors(randomData, randomClasses)           \n",
    "        if er != 0:\n",
    "            errors += er\n",
    "            print('Incorrect classification of ' + str(er) + 'points was observed.')\n",
    "            plotClassification(randomData, randomClasses, classifier)\n",
    "            plt.show()\n",
    "            errorSamplesList.append([randomData, randomClasses])\n",
    "            \n",
    "    Text1 = 'A perceptron test was performed. There were ' + str(iterations) \\\n",
    "            + ' training sets of ' + str(nData) + ' randomly generated linearly separable points. \\n'\n",
    "    print(Text1)\n",
    "    if errors == 0:\n",
    "        Text2 = 'During the test, no point was badly classified. \\n' \n",
    "    else:\n",
    "        Text2 = 'Overall, there occured ' + str(errors) + ' errors. The samples with incorrect' \\\n",
    "        + ' classification are shown above. \\n'\n",
    "    print(Text2)\n",
    "    return (errorSamplesList)\n",
    "erList = classificatorTest(myPerceptron())    "
   ]
  },
  {
   "cell_type": "markdown",
   "metadata": {},
   "source": [
    "<h3>Problems</h3>"
   ]
  },
  {
   "cell_type": "markdown",
   "metadata": {},
   "source": [
    "Good solution"
   ]
  },
  {
   "cell_type": "code",
   "execution_count": 15,
   "metadata": {},
   "outputs": [
    {
     "data": {
      "image/png": "[encoded data removed]",
      "text/plain": [
       "<matplotlib.figure.Figure at 0x1f7c0aca630>"
      ]
     },
     "metadata": {},
     "output_type": "display_data"
    }
   ],
   "source": [
    "linearSVM = svm.SVC(kernel = 'linear') \n",
    "linearSVM.fit(linSepData, linSepClasses[:,0])\n",
    "plotClassification(linSepData, linSepClasses,linearSVM) \n",
    "plt.show()"
   ]
  },
  {
   "cell_type": "markdown",
   "metadata": {},
   "source": [
    "Linear non-separable data"
   ]
  },
  {
   "cell_type": "code",
   "execution_count": 16,
   "metadata": {},
   "outputs": [
    {
     "data": {
      "image/png": "[encoded data removed]",
      "text/plain": [
       "<matplotlib.figure.Figure at 0x1f7bf2c8f60>"
      ]
     },
     "metadata": {},
     "output_type": "display_data"
    }
   ],
   "source": [
    "dataNon = loadDataFromCSVFile(nonLinSepDataFileURL)\n",
    "classNon = loadDataFromCSVFile(nonLinSepClassFileURL)\n",
    "shufflePoints(dataNon, classNon, 5)\n",
    "plotPoints(dataNon, classNon)      \n",
    "plt.show()"
   ]
  },
  {
   "cell_type": "markdown",
   "metadata": {},
   "source": [
    "My prerceptron"
   ]
  },
  {
   "cell_type": "code",
   "execution_count": 17,
   "metadata": {},
   "outputs": [
    {
     "data": {
      "image/png": "[encoded data removed]",
      "text/plain": [
       "<matplotlib.figure.Figure at 0x1f7bf9b49b0>"
      ]
     },
     "metadata": {},
     "output_type": "display_data"
    }
   ],
   "source": [
    "my = myPerceptron()\n",
    "my.fit(dataNon, classNon)\n",
    "plotClassification(dataNon, classNon,my)\n",
    "plt.show()    "
   ]
  },
  {
   "cell_type": "markdown",
   "metadata": {},
   "source": [
    "Comparition"
   ]
  },
  {
   "cell_type": "code",
   "execution_count": 18,
   "metadata": {},
   "outputs": [
    {
     "data": {
      "image/png": "[encoded data removed]",
      "text/plain": [
       "<matplotlib.figure.Figure at 0x1f7bfa7f588>"
      ]
     },
     "metadata": {},
     "output_type": "display_data"
    }
   ],
   "source": [
    "linear = svm.SVC(kernel='linear') \n",
    "linear.fit(dataNon, classNon[:,0])\n",
    "plotClassification(dataNon, classNon,linear)\n",
    "plt.show()"
   ]
  },
  {
   "cell_type": "markdown",
   "metadata": {},
   "source": [
    "Better solution"
   ]
  },
  {
   "cell_type": "code",
   "execution_count": 19,
   "metadata": {},
   "outputs": [
    {
     "data": {
      "image/png": "[encoded data removed]",
      "text/plain": [
       "<matplotlib.figure.Figure at 0x1f7bfbdacf8>"
      ]
     },
     "metadata": {},
     "output_type": "display_data"
    }
   ],
   "source": [
    "mod = svm.SVC(kernel='rbf', random_state=0, gamma=0.5, C=10)\n",
    "mod.fit(dataNon, classNon[:,0])\n",
    "plotClassification(dataNon, classNon, mod)"
   ]
  },
  {
   "cell_type": "markdown",
   "metadata": {},
   "source": [
    "Conclusion"
   ]
  },
  {
   "cell_type": "markdown",
   "metadata": {},
   "source": [
    "<h3>Citace</h3>\n",
    "\n",
    "https://jtsulliv.github.io/perceptron/ \n",
    "https://pdfs.semanticscholar.org/6174/3124c2a4b4e550731ac39508c7d18e520979.pdf\n",
    "https://chrisalbon.com/machine_learning/support_vector_machines/svc_parameters_using_rbf_kernel/\n",
    "http://www.3dmatics.com/blog/2014/11/artificial-linearly-separable-test-data-in-python/\n",
    "https://machinelearningmastery.com/implement-perceptron-algorithm-scratch-python/\n",
    "ta knihovna\n",
    "+ wikipedie ruzne\n"
   ]
  }
 ],
 "metadata": {
  "kernelspec": {
   "display_name": "Python 3",
   "language": "python",
   "name": "python3"
  },
  "language_info": {
   "codemirror_mode": {
    "name": "ipython",
    "version": 3
   },
   "file_extension": ".py",
   "mimetype": "text/x-python",
   "name": "python",
   "nbconvert_exporter": "python",
   "pygments_lexer": "ipython3",
   "version": "3.6.4"
  }
 },
 "nbformat": 4,
 "nbformat_minor": 2
}
