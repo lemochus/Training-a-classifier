{
 "cells": [
  {
   "cell_type": "markdown",
   "metadata": {},
   "source": [
    "<h1>Training a Classifier</h1>"
   ]
  },
  {
   "cell_type": "markdown",
   "metadata": {},
   "source": [
    "<h3>Author: Aleš Suchomel</h3>\n",
    "\n",
    "The goal of this notebook is to demonstrate the processing of specified linearly divisible data (2D points) and their classification by implementing a simple Perceptron algorithm. Further, the thesis contains an elementary testing of the created Perceptron, its comparison with freely available algorithms and at the end the paper also deals briefly with the specified non-linearly separable data."
   ]
  },
  {
   "cell_type": "markdown",
   "metadata": {},
   "source": [
    "<h3>Preparation</h3> \n",
    "\n",
    "First, list of imported libraries and URLs of processed files:"
   ]
  },
  {
   "cell_type": "code",
   "execution_count": 1,
   "metadata": {},
   "outputs": [],
   "source": [
    "#Reading csv files\n",
    "import csv\n",
    "#Computing and containers\n",
    "import numpy as np\n",
    "#Plotting\n",
    "import matplotlib\n",
    "import matplotlib.pyplot as plt\n",
    "#from matplotlib.colors import ListedColormap\n",
    "%matplotlib inline\n",
    "#Pro SVM Classificator \n",
    "import sklearn.svm as svm\n",
    "#Data presentation\n",
    "import pandas as pd"
   ]
  },
  {
   "cell_type": "code",
   "execution_count": 2,
   "metadata": {},
   "outputs": [],
   "source": [
    "#CSV files with the data\n",
    "linSepDataFileURL = 'linsep-traindata.csv'\n",
    "linSepClassFileURL = 'linsep-trainclass.csv'\n",
    "\n",
    "nonLinSepDataFileURL = 'nonlinsep-traindata.csv'\n",
    "nonLinSepClassFileURL = 'nonlinsep-trainclass.csv'"
   ]
  },
  {
   "cell_type": "markdown",
   "metadata": {},
   "source": [
    "<h3>Processing of the data</h3>\n",
    "\n",
    "So, we need to load the provided data from csv files."
   ]
  },
  {
   "cell_type": "code",
   "execution_count": 4,
   "metadata": {},
   "outputs": [],
   "source": [
    "def loadDataFromCSVFile(fileURL):    \n",
    "    dataFile = open(fileURL)   \n",
    "    dataReader = csv.reader(dataFile)\n",
    "    data = list(dataReader)\n",
    "    data = np.array(data).astype(\"float\")\n",
    "    dataFile.close() \n",
    "    return data\n",
    "\n",
    "linSepData = loadDataFromCSVFile(linSepDataFileURL)\n",
    "linSepClasses = loadDataFromCSVFile(linSepClassFileURL) "
   ]
  },
  {
   "cell_type": "markdown",
   "metadata": {},
   "source": [
    "Then we should print the points in order to make it clear that the loading function works."
   ]
  },
  {
   "cell_type": "code",
   "execution_count": 5,
   "metadata": {},
   "outputs": [
    {
     "data": {
      "text/html": [
       "<div>\n",
       "<style scoped>\n",
       "    .dataframe tbody tr th:only-of-type {\n",
       "        vertical-align: middle;\n",
       "    }\n",
       "\n",
       "    .dataframe tbody tr th {\n",
       "        vertical-align: top;\n",
       "    }\n",
       "\n",
       "    .dataframe thead th {\n",
       "        text-align: right;\n",
       "    }\n",
       "</style>\n",
       "<table border=\"1\" class=\"dataframe\">\n",
       "  <thead>\n",
       "    <tr style=\"text-align: right;\">\n",
       "      <th></th>\n",
       "      <th>0</th>\n",
       "      <th>1</th>\n",
       "      <th>2</th>\n",
       "      <th>3</th>\n",
       "      <th>4</th>\n",
       "      <th>5</th>\n",
       "      <th>6</th>\n",
       "      <th>7</th>\n",
       "      <th>...</th>\n",
       "      <th>92</th>\n",
       "      <th>93</th>\n",
       "      <th>94</th>\n",
       "      <th>95</th>\n",
       "      <th>96</th>\n",
       "      <th>97</th>\n",
       "      <th>98</th>\n",
       "      <th>99</th>\n",
       "    </tr>\n",
       "  </thead>\n",
       "  <tbody>\n",
       "    <tr>\n",
       "      <th>X1</th>\n",
       "      <td>2.0009</td>\n",
       "      <td>4.845700</td>\n",
       "      <td>4.17110</td>\n",
       "      <td>1.4660</td>\n",
       "      <td>6.05990</td>\n",
       "      <td>1.3872</td>\n",
       "      <td>0.57898</td>\n",
       "      <td>0.41096</td>\n",
       "      <td>...</td>\n",
       "      <td>-4.6567</td>\n",
       "      <td>-4.4480</td>\n",
       "      <td>-5.1088</td>\n",
       "      <td>-2.5519</td>\n",
       "      <td>-4.1622</td>\n",
       "      <td>-3.2379</td>\n",
       "      <td>-4.3434</td>\n",
       "      <td>-4.2989</td>\n",
       "    </tr>\n",
       "    <tr>\n",
       "      <th>X2</th>\n",
       "      <td>4.6848</td>\n",
       "      <td>0.076542</td>\n",
       "      <td>0.50986</td>\n",
       "      <td>5.8026</td>\n",
       "      <td>0.84003</td>\n",
       "      <td>7.3061</td>\n",
       "      <td>1.86560</td>\n",
       "      <td>4.43820</td>\n",
       "      <td>...</td>\n",
       "      <td>-4.8184</td>\n",
       "      <td>-3.7235</td>\n",
       "      <td>-2.7171</td>\n",
       "      <td>-3.4786</td>\n",
       "      <td>-3.5400</td>\n",
       "      <td>-2.3194</td>\n",
       "      <td>-3.4183</td>\n",
       "      <td>-3.7629</td>\n",
       "    </tr>\n",
       "    <tr>\n",
       "      <th>class</th>\n",
       "      <td>-1.0000</td>\n",
       "      <td>-1.000000</td>\n",
       "      <td>-1.00000</td>\n",
       "      <td>-1.0000</td>\n",
       "      <td>-1.00000</td>\n",
       "      <td>-1.0000</td>\n",
       "      <td>-1.00000</td>\n",
       "      <td>-1.00000</td>\n",
       "      <td>...</td>\n",
       "      <td>1.0000</td>\n",
       "      <td>1.0000</td>\n",
       "      <td>1.0000</td>\n",
       "      <td>1.0000</td>\n",
       "      <td>1.0000</td>\n",
       "      <td>1.0000</td>\n",
       "      <td>1.0000</td>\n",
       "      <td>1.0000</td>\n",
       "    </tr>\n",
       "  </tbody>\n",
       "</table>\n",
       "<p>3 rows × 100 columns</p>\n",
       "</div>"
      ],
      "text/plain": [
       "           0         1        2       3        4       5        6        7   \\\n",
       "X1     2.0009  4.845700  4.17110  1.4660  6.05990  1.3872  0.57898  0.41096   \n",
       "X2     4.6848  0.076542  0.50986  5.8026  0.84003  7.3061  1.86560  4.43820   \n",
       "class -1.0000 -1.000000 -1.00000 -1.0000 -1.00000 -1.0000 -1.00000 -1.00000   \n",
       "\n",
       "        ...        92      93      94      95      96      97      98      99  \n",
       "X1      ...   -4.6567 -4.4480 -5.1088 -2.5519 -4.1622 -3.2379 -4.3434 -4.2989  \n",
       "X2      ...   -4.8184 -3.7235 -2.7171 -3.4786 -3.5400 -2.3194 -3.4183 -3.7629  \n",
       "class   ...    1.0000  1.0000  1.0000  1.0000  1.0000  1.0000  1.0000  1.0000  \n",
       "\n",
       "[3 rows x 100 columns]"
      ]
     },
     "metadata": {},
     "output_type": "display_data"
    }
   ],
   "source": [
    "df = pd.DataFrame(np.append(linSepData, linSepClasses, axis=1), columns=['X1','X2','class'])\n",
    "pd.set_option('display.max_columns',17)\n",
    "display(df.T)"
   ]
  },
  {
   "cell_type": "markdown",
   "metadata": {},
   "source": [
    "As we can see from the table above, those data are already divided by the classes. Because our algorithm may dependend on the order of points in the field, it may be more appropriate to mix the points first."
   ]
  },
  {
   "cell_type": "code",
   "execution_count": 7,
   "metadata": {},
   "outputs": [],
   "source": [
    "def shufflePoints(points, classes, seed = 'no'):\n",
    "    helpField = np.append(points, classes, axis=1)\n",
    "    rand = np.random\n",
    "    if seed != 'no':\n",
    "        rand.seed(seed)\n",
    "    rand.shuffle(helpField)\n",
    "    points = helpField[:,0:2]\n",
    "    classes = helpField[:,2,None]\n",
    "    return points, classes\n",
    "\n",
    "linSepData, linSepClasses = shufflePoints(linSepData, linSepClasses, 5)"
   ]
  },
  {
   "cell_type": "markdown",
   "metadata": {},
   "source": [
    "However, it is best to make a plot to get a better overview."
   ]
  },
  {
   "cell_type": "code",
   "execution_count": 20,
   "metadata": {},
   "outputs": [
    {
     "data": {
      "image/png": "[encoded data removed]",
      "text/plain": [
       "<matplotlib.figure.Figure at 0x1f7bfa3d668>"
      ]
     },
     "metadata": {},
     "output_type": "display_data"
    }
   ],
   "source": [
    "def plotPoints(points, classes):\n",
    "\n",
    "    X1 = points[classes[:,0]==1,:]\n",
    "    X2 = points[classes[:,0]==-1,:]\n",
    "    \n",
    "    plt.scatter(X1[:,0],X1[:,1], c='r', marker='x', label='Class: 1')\n",
    "    plt.scatter(X2[:,0],X2[:,1], c='b', marker='o', label='Class: -1')\n",
    "          \n",
    "    plt.legend(loc='upper left')\n",
    "    plt.xlabel('X1')\n",
    "    plt.ylabel('X2')\n",
    "    \n",
    "plt.title('Entered Linearly Separable Data')   \n",
    "plotPoints(linSepData, linSepClasses) \n",
    "plt.show()"
   ]
  },
  {
   "cell_type": "markdown",
   "metadata": {},
   "source": [
    "<h3>My Perceptron</h3> \n",
    "\n",
    "At this stage, we have the points and we can display them. So we can start classifying them. For this purpose, we will create our own class. We will do it in such a way, that the class will implement the same interface as built-in perceptrons in the sklearn library. It will be usefull further."
   ]
  },
  {
   "cell_type": "code",
   "execution_count": 10,
   "metadata": {},
   "outputs": [
    {
     "name": "stdout",
     "output_type": "stream",
     "text": [
      "Number of wrongly classified training points: 0\n"
     ]
    }
   ],
   "source": [
    "class myPerceptron:\n",
    "    # eta:              learning rate\n",
    "    # MAX_ITERATIONS:   maximal number of epochs\n",
    "    # weights:          the trained values, a constant and a normal vector to the searched boundary\n",
    "    \n",
    "    # Constructor, not very interesting    \n",
    "    def __init__(self, eta = 0.1, MAX_ITERATIONS = 1000):\n",
    "        self.eta = eta\n",
    "        self.MAX_ITERATIONS = MAX_ITERATIONS\n",
    "        self.weights = np.zeros(3)\n",
    "        \n",
    "    # predict\n",
    "    #\n",
    "    # Predict is the point classification function, which assigns points to the classes based on the learned weights.\n",
    "    #\n",
    "    # Inputs\n",
    "    # points:    array of points for classification\n",
    "    #\n",
    "    # Outputs\n",
    "    # Z:         array of identified classes, each class is in the same row in Z as the relevant point in array points\n",
    "    def predict(self, points):\n",
    "        Z = []\n",
    "        if len(points.shape)<=1:\n",
    "            points=[points]\n",
    "        for row in points:\n",
    "            xx = np.array([float(-1),row[0],row[1]])\n",
    "            value = np.sum(self.weights*xx)  \n",
    "            if value > 0: \n",
    "                Z.append(-1)\n",
    "            else:\n",
    "                Z.append(1)    \n",
    "        return np.array(Z)\n",
    "\n",
    "    # countErrors\n",
    "    #\n",
    "    # CountErrors is a function, which returns the number of poorly classified training points by the perceptron.\n",
    "    #\n",
    "    # Inputs\n",
    "    # points:        array of points for classification\n",
    "    # classes:       array of classes of training points\n",
    "    #\n",
    "    # Outputs\n",
    "    # errors:        the number of errors (identified class is different from the correct one)\n",
    "    def countErrors(self, points, classes):\n",
    "        errors = 0\n",
    "        ind = 0\n",
    "        for p in points:\n",
    "            guessedClass = self.predict(p)\n",
    "            errors += abs((guessedClass - classes[ind])/2)\n",
    "            ind += 1\n",
    "        return int(errors)   \n",
    "\n",
    "    # fit\n",
    "    #\n",
    "    # Fit is the function, which trains the weights, uses the Stochastic gradient descent algorithm to do so.\n",
    "    #\n",
    "    # Inputs\n",
    "    # trainPoints:  array of points for classification\n",
    "    # classes:      array of classes of training points\n",
    "    #\n",
    "    def fit(self, trainPoints, classes):\n",
    "        self.weights = np.zeros(3)\n",
    "        errors = 1\n",
    "        index = 0\n",
    "        while index < self.MAX_ITERATIONS and errors != 0:\n",
    "            indexClass = 0\n",
    "            for p in trainPoints:\n",
    "                guessedClass = self.predict(p)\n",
    "                error = (guessedClass[0] - classes[indexClass])/2\n",
    "                xx = np.array([float(-1),p[0],p[1]])\n",
    "                self.weights += xx*error*self.eta         \n",
    "                indexClass+=1\n",
    "            index += 1\n",
    "            errors = self.countErrors(trainPoints,classes)\n",
    "            \n",
    "my = myPerceptron()\n",
    "my.fit(linSepData, linSepClasses)\n",
    "\n",
    "    "
   ]
  },
  {
   "cell_type": "markdown",
   "metadata": {},
   "source": [
    "The myPerceptron class allows us to classify the specified points and, according to the result of the countErrors function, it can assign them to the correct class. This means we have found a line that divides the two sets of points. However, in order to have a better knowladge, we should create a graph again."
   ]
  },
  {
   "cell_type": "code",
   "execution_count": 12,
   "metadata": {},
   "outputs": [
    {
     "data": {
      "image/png": "[encoded data removed]",
      "text/plain": [
       "<matplotlib.figure.Figure at 0x1f7bf8f3470>"
      ]
     },
     "metadata": {},
     "output_type": "display_data"
    }
   ],
   "source": [
    "# The basic idea of the next function comes from\n",
    "def plotClassification(points, classes, classifier):\n",
    " \n",
    "    colors = ('blue','red')\n",
    "    step = 0.02\n",
    "\n",
    "    x0Min = points[:,0].min() - 0.5 \n",
    "    x0Max = points[:,0].max() + 0.5\n",
    "    x1Min = points[:,1].min() - 0.5\n",
    "    x1Max = points[:,1].max() + 0.5\n",
    "    \n",
    "    x0 = np.arange(x0Min, x0Max, step)\n",
    "    x1 = np.arange(x1Min, x1Max, step)\n",
    "    xx0, xx1 = np.meshgrid(x0,x1)\n",
    "\n",
    "    allX = np.array([xx0.ravel(), xx1.ravel()]).T\n",
    "    Z = classifier.predict(allX)\n",
    "    Z = Z.reshape(xx0.shape)\n",
    "    \n",
    "    plt.contourf(xx0, xx1, Z, alpha = 0.3, colors = colors)   \n",
    "    plotPoints(points, classes)\n",
    "    \n",
    "plotClassification(linSepData, linSepClasses, my) \n",
    "plt.show()"
   ]
  },
  {
   "cell_type": "markdown",
   "metadata": {},
   "source": [
    "So we managed to divide the data, but that does not mean that our algorithm works properly. Moreover, the data seems relatively straightforward to be linearly separable. For better testing of our algorithm we will need to generate new linearly separable points."
   ]
  },
  {
   "cell_type": "code",
   "execution_count": 13,
   "metadata": {},
   "outputs": [
    {
     "data": {
      "image/png": "[encoded data removed]",
      "text/plain": [
       "<matplotlib.figure.Figure at 0x1f7bf93ea90>"
      ]
     },
     "metadata": {},
     "output_type": "display_data"
    }
   ],
   "source": [
    "def generateLinSepData(a = 1, b = 0, nData = 100, minDistance = 0.1, seed = 'no'):    \n",
    "    \n",
    "    rand = np.random\n",
    "    if seed != 'no':\n",
    "        rand.seed(seed)        \n",
    "    data = rand.random([nData,2]) * 10 - 5\n",
    "        \n",
    "    x1Distance = a * data[:,0,None] + b - data[:,1,None]\n",
    "    x1Conditions = [x1Distance <= -minDistance, x1Distance >= minDistance, abs(x1Distance)<minDistance]\n",
    "    x1Classes = np.select(x1Conditions,[-1, 1, 0])\n",
    "    \n",
    "    x2Distance = (data[:,1,None] - b) / a - data[:,0,None]\n",
    "    x2Conditions = [abs(x2Distance)<minDistance, abs(x2Distance)>=minDistance]\n",
    "    x2Classes = np.select(x2Conditions,[0,1])    \n",
    "    classes = np.multiply(x1Classes,x2Classes)\n",
    "    \n",
    "    data = data[classes[:,0]!=0]\n",
    "    classes = classes[classes[:,0]!=0]\n",
    "    \n",
    "    return(data,classes)\n",
    "\n",
    "randomData,randomClasses = generateLinSepData()\n",
    "plotPoints(randomData,randomClasses)\n",
    "plt.show()"
   ]
  },
  {
   "cell_type": "markdown",
   "metadata": {},
   "source": [
    "When we are able to generate the data, we only have to write a function that will generate random sets of the points and also parametrs of dividing lines in cycles. The function should also count a number of poorly classified points and present the results."
   ]
  },
  {
   "cell_type": "code",
   "execution_count": 14,
   "metadata": {},
   "outputs": [
    {
     "name": "stdout",
     "output_type": "stream",
     "text": [
      "A perceptron test was performed. There were 100 training sets of 100 randomly generated linearly separable points. \n",
      "\n",
      "During the test, no point was badly classified. \n",
      "\n"
     ]
    }
   ],
   "source": [
    "def classificatorTest(classifier, iterations = 100, nData = 100, minDistance = 0.1):\n",
    "    \n",
    "    errors = 0\n",
    "    errorSamplesList = []\n",
    "    r = np.random\n",
    "    for i in range(iterations):\n",
    "        a = r.random() * 20 - 10\n",
    "        b = r.random() * 10 - 5\n",
    "        randomData, randomClasses = generateLinSepData(a,b, minDistance = minDistance, nData = nData)\n",
    "        classifier.fit(randomData, randomClasses)\n",
    "        er = classifier.countErrors(randomData, randomClasses)           \n",
    "        if er != 0:\n",
    "            errors += er\n",
    "            print('Incorrect classification of ' + str(er) + 'points was observed.')\n",
    "            plotClassification(randomData, randomClasses, classifier)\n",
    "            plt.show()\n",
    "            errorSamplesList.append([randomData, randomClasses])\n",
    "            \n",
    "    Text1 = 'A perceptron test was performed. There were ' + str(iterations) \\\n",
    "            + ' training sets of ' + str(nData) + ' randomly generated linearly separable points. \\n'\n",
    "    print(Text1)\n",
    "    if errors == 0:\n",
    "        Text2 = 'During the test, no point was badly classified. \\n' \n",
    "    else:\n",
    "        Text2 = 'Overall, there occured ' + str(errors) + ' errors. The samples with incorrect' \\\n",
    "        + ' classification are shown above. \\n'\n",
    "    print(Text2)\n",
    "    return (errorSamplesList)\n",
    "erList = classificatorTest(myPerceptron())    "
   ]
  },
  {
   "cell_type": "markdown",
   "metadata": {},
   "source": [
    "So it looks like our algorithm really works. It can divide two linearly separable sets with only a small distance between them.\n",
    "\n",
    "<h3>The quality of the solution</h3>\n",
    "\n",
    "We have showed that we can find the dividing line. Of course, there is not only one solution to this task. So, can we find a good solution? Probably not, our algorithm only looks for a permissible solution. To find a good solution, we should use a different algorithm. An interesting example is Support vector machine that maximizes the minimum distance of points from the dividing line. We will not implement it anymore, but we can show a solution to our problem with the a perceptron from sklearn library."
   ]
  },
  {
   "cell_type": "code",
   "execution_count": 15,
   "metadata": {},
   "outputs": [
    {
     "data": {
      "image/png": "[encoded data removed]",
      "text/plain": [
       "<matplotlib.figure.Figure at 0x1f7c0aca630>"
      ]
     },
     "metadata": {},
     "output_type": "display_data"
    }
   ],
   "source": [
    "linearSVM = svm.SVC(kernel = 'linear') \n",
    "linearSVM.fit(linSepData, linSepClasses[:,0])\n",
    "plotClassification(linSepData, linSepClasses,linearSVM) \n",
    "plt.show()"
   ]
  },
  {
   "cell_type": "markdown",
   "metadata": {},
   "source": [
    "<h3>Advanced option - Linear non-separable data</h3>\n",
    "\n",
    "There is no difference in processing. We can use the same functions as before.\n"
   ]
  },
  {
   "cell_type": "code",
   "execution_count": 16,
   "metadata": {},
   "outputs": [
    {
     "data": {
      "image/png": "[encoded data removed]",
      "text/plain": [
       "<matplotlib.figure.Figure at 0x1f7bf2c8f60>"
      ]
     },
     "metadata": {},
     "output_type": "display_data"
    }
   ],
   "source": [
    "dataNon = loadDataFromCSVFile(nonLinSepDataFileURL)\n",
    "classNon = loadDataFromCSVFile(nonLinSepClassFileURL)\n",
    "shufflePoints(dataNon, classNon, 5)\n",
    "plotPoints(dataNon, classNon)      \n",
    "plt.show()"
   ]
  },
  {
   "cell_type": "markdown",
   "metadata": {},
   "source": [
    "Our perceptron worked very well on linearly separable data, where it theoretically converges to the right solution.\n",
    "However, it is absolutely unusable for linearly non-separable points as shown below."
   ]
  },
  {
   "cell_type": "code",
   "execution_count": 21,
   "metadata": {},
   "outputs": [
    {
     "data": {
      "image/png": "[encoded data removed]",
      "text/plain": [
       "<matplotlib.figure.Figure at 0x1f7c02e8358>"
      ]
     },
     "metadata": {},
     "output_type": "display_data"
    },
    {
     "name": "stdout",
     "output_type": "stream",
     "text": [
      "Number of wrongly classified training points: 30\n"
     ]
    }
   ],
   "source": [
    "my = myPerceptron()\n",
    "my.fit(dataNon, classNon)\n",
    "plotClassification(dataNon, classNon,my)\n",
    "plt.show()    \n",
    "print('Number of wrongly classified training points: ' + str(my.countErrors(dataNon, classNon)))"
   ]
  },
  {
   "cell_type": "markdown",
   "metadata": {},
   "source": [
    "The algorithm borrowed from the library can by used for linearly inseparable, eg due to noise, data. His solution to the second problem is much better. Only a few points are poorly qualified."
   ]
  },
  {
   "cell_type": "code",
   "execution_count": 18,
   "metadata": {},
   "outputs": [
    {
     "data": {
      "image/png": "[encoded data removed]",
      "text/plain": [
       "<matplotlib.figure.Figure at 0x1f7bfa7f588>"
      ]
     },
     "metadata": {},
     "output_type": "display_data"
    }
   ],
   "source": [
    "linear = svm.SVC(kernel='linear') \n",
    "linear.fit(dataNon, classNon[:,0])\n",
    "plotClassification(dataNon, classNon,linear)\n",
    "plt.show()"
   ]
  },
  {
   "cell_type": "markdown",
   "metadata": {},
   "source": [
    "Of course, it is not the best solution to fit the specified non-linearly separable data with a straight line. A much better solution is to transform the data using a kernel function into those that are linearly separable first and then classify them. This solution is demonstrated below using the same library as before."
   ]
  },
  {
   "cell_type": "code",
   "execution_count": 19,
   "metadata": {},
   "outputs": [
    {
     "data": {
      "image/png": "[encoded data removed]",
      "text/plain": [
       "<matplotlib.figure.Figure at 0x1f7bfbdacf8>"
      ]
     },
     "metadata": {},
     "output_type": "display_data"
    }
   ],
   "source": [
    "mod = svm.SVC(kernel='rbf', random_state=0, gamma=0.5, C=10)\n",
    "mod.fit(dataNon, classNon[:,0])\n",
    "plotClassification(dataNon, classNon, mod)"
   ]
  },
  {
   "cell_type": "markdown",
   "metadata": {},
   "source": [
    "Conclusion\n",
    "\n",
    ".. in process..."
   ]
  },
  {
   "cell_type": "markdown",
   "metadata": {},
   "source": [
    "<h3>Citace</h3>\n",
    "\n",
    "https://jtsulliv.github.io/perceptron/ <br>\n",
    "https://pdfs.semanticscholar.org/6174/3124c2a4b4e550731ac39508c7d18e520979.pdf<br>\n",
    "https://chrisalbon.com/machine_learning/support_vector_machines/svc_parameters_using_rbf_kernel/<br>\n",
    "http://www.3dmatics.com/blog/2014/11/artificial-linearly-separable-test-data-in-python/<br>\n",
    "https://machinelearningmastery.com/implement-perceptron-algorithm-scratch-python/<br>\n",
    "ta knihovna\n",
    "+ wikipedie ruzne\n"
   ]
  }
 ],
 "metadata": {
  "kernelspec": {
   "display_name": "Python 3",
   "language": "python",
   "name": "python3"
  },
  "language_info": {
   "codemirror_mode": {
    "name": "ipython",
    "version": 3
   },
   "file_extension": ".py",
   "mimetype": "text/x-python",
   "name": "python",
   "nbconvert_exporter": "python",
   "pygments_lexer": "ipython3",
   "version": "3.6.4"
  }
 },
 "nbformat": 4,
 "nbformat_minor": 2
}
